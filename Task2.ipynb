{
  "nbformat": 4,
  "nbformat_minor": 0,
  "metadata": {
    "colab": {
      "name": "Task2.ipynb",
      "provenance": []
    },
    "kernelspec": {
      "name": "python3",
      "display_name": "Python 3"
    }
  },
  "cells": [
    {
      "cell_type": "markdown",
      "metadata": {
        "id": "23UlL_d0Um9w"
      },
      "source": [
        "**THE SPARK FOUNDATION**: Data Science & Business Analytics Internship\r\n",
        "\r\n",
        "Task Submitted by -**PALAK GANGWAR**\r\n",
        "\r\n",
        "**MACHINE LEARNING**:Gives computers the ability to learn without being explicitly programmed.\r\n",
        "\r\n",
        "\r\n",
        "\r\n"
      ]
    },
    {
      "cell_type": "markdown",
      "metadata": {
        "id": "cex7tj3jqn9R"
      },
      "source": [
        "**Unsupervised Learning:**The training of machine using information that is neither classified nor labelled and allowing the algo to act on that information without gudiance"
      ]
    },
    {
      "cell_type": "markdown",
      "metadata": {
        "id": "0fTrIV_M0ytv"
      },
      "source": [
        "**Task 2**\r\n",
        "\r\n",
        "**Promblem Statement: From the given 'Iris' dataset,predict the optimum number of clusters and represent it visually**"
      ]
    },
    {
      "cell_type": "markdown",
      "metadata": {
        "id": "D-_hxeZpxqgi"
      },
      "source": [
        "**Importing Libraries**"
      ]
    },
    {
      "cell_type": "code",
      "metadata": {
        "id": "-MUSxZYgUwg_"
      },
      "source": [
        "import numpy as np\r\n",
        "import pandas as pd\r\n",
        "import matplotlib.pyplot as plt\r\n",
        "import seaborn as sns\r\n",
        "from sklearn import datasets"
      ],
      "execution_count": 1,
      "outputs": []
    },
    {
      "cell_type": "markdown",
      "metadata": {
        "id": "tBSWdTT4xz5m"
      },
      "source": [
        "**Importing the dataset**"
      ]
    },
    {
      "cell_type": "code",
      "metadata": {
        "id": "hsvCWmJxf_vj",
        "colab": {
          "base_uri": "https://localhost:8080/"
        },
        "outputId": "a0566c94-9bf8-40f9-c3a0-aeb1c0255406"
      },
      "source": [
        "iris=datasets.load_iris()\r\n",
        "iris"
      ],
      "execution_count": 2,
      "outputs": [
        {
          "output_type": "execute_result",
          "data": {
            "text/plain": [
              "{'DESCR': '.. _iris_dataset:\\n\\nIris plants dataset\\n--------------------\\n\\n**Data Set Characteristics:**\\n\\n    :Number of Instances: 150 (50 in each of three classes)\\n    :Number of Attributes: 4 numeric, predictive attributes and the class\\n    :Attribute Information:\\n        - sepal length in cm\\n        - sepal width in cm\\n        - petal length in cm\\n        - petal width in cm\\n        - class:\\n                - Iris-Setosa\\n                - Iris-Versicolour\\n                - Iris-Virginica\\n                \\n    :Summary Statistics:\\n\\n    ============== ==== ==== ======= ===== ====================\\n                    Min  Max   Mean    SD   Class Correlation\\n    ============== ==== ==== ======= ===== ====================\\n    sepal length:   4.3  7.9   5.84   0.83    0.7826\\n    sepal width:    2.0  4.4   3.05   0.43   -0.4194\\n    petal length:   1.0  6.9   3.76   1.76    0.9490  (high!)\\n    petal width:    0.1  2.5   1.20   0.76    0.9565  (high!)\\n    ============== ==== ==== ======= ===== ====================\\n\\n    :Missing Attribute Values: None\\n    :Class Distribution: 33.3% for each of 3 classes.\\n    :Creator: R.A. Fisher\\n    :Donor: Michael Marshall (MARSHALL%PLU@io.arc.nasa.gov)\\n    :Date: July, 1988\\n\\nThe famous Iris database, first used by Sir R.A. Fisher. The dataset is taken\\nfrom Fisher\\'s paper. Note that it\\'s the same as in R, but not as in the UCI\\nMachine Learning Repository, which has two wrong data points.\\n\\nThis is perhaps the best known database to be found in the\\npattern recognition literature.  Fisher\\'s paper is a classic in the field and\\nis referenced frequently to this day.  (See Duda & Hart, for example.)  The\\ndata set contains 3 classes of 50 instances each, where each class refers to a\\ntype of iris plant.  One class is linearly separable from the other 2; the\\nlatter are NOT linearly separable from each other.\\n\\n.. topic:: References\\n\\n   - Fisher, R.A. \"The use of multiple measurements in taxonomic problems\"\\n     Annual Eugenics, 7, Part II, 179-188 (1936); also in \"Contributions to\\n     Mathematical Statistics\" (John Wiley, NY, 1950).\\n   - Duda, R.O., & Hart, P.E. (1973) Pattern Classification and Scene Analysis.\\n     (Q327.D83) John Wiley & Sons.  ISBN 0-471-22361-1.  See page 218.\\n   - Dasarathy, B.V. (1980) \"Nosing Around the Neighborhood: A New System\\n     Structure and Classification Rule for Recognition in Partially Exposed\\n     Environments\".  IEEE Transactions on Pattern Analysis and Machine\\n     Intelligence, Vol. PAMI-2, No. 1, 67-71.\\n   - Gates, G.W. (1972) \"The Reduced Nearest Neighbor Rule\".  IEEE Transactions\\n     on Information Theory, May 1972, 431-433.\\n   - See also: 1988 MLC Proceedings, 54-64.  Cheeseman et al\"s AUTOCLASS II\\n     conceptual clustering system finds 3 classes in the data.\\n   - Many, many more ...',\n",
              " 'data': array([[5.1, 3.5, 1.4, 0.2],\n",
              "        [4.9, 3. , 1.4, 0.2],\n",
              "        [4.7, 3.2, 1.3, 0.2],\n",
              "        [4.6, 3.1, 1.5, 0.2],\n",
              "        [5. , 3.6, 1.4, 0.2],\n",
              "        [5.4, 3.9, 1.7, 0.4],\n",
              "        [4.6, 3.4, 1.4, 0.3],\n",
              "        [5. , 3.4, 1.5, 0.2],\n",
              "        [4.4, 2.9, 1.4, 0.2],\n",
              "        [4.9, 3.1, 1.5, 0.1],\n",
              "        [5.4, 3.7, 1.5, 0.2],\n",
              "        [4.8, 3.4, 1.6, 0.2],\n",
              "        [4.8, 3. , 1.4, 0.1],\n",
              "        [4.3, 3. , 1.1, 0.1],\n",
              "        [5.8, 4. , 1.2, 0.2],\n",
              "        [5.7, 4.4, 1.5, 0.4],\n",
              "        [5.4, 3.9, 1.3, 0.4],\n",
              "        [5.1, 3.5, 1.4, 0.3],\n",
              "        [5.7, 3.8, 1.7, 0.3],\n",
              "        [5.1, 3.8, 1.5, 0.3],\n",
              "        [5.4, 3.4, 1.7, 0.2],\n",
              "        [5.1, 3.7, 1.5, 0.4],\n",
              "        [4.6, 3.6, 1. , 0.2],\n",
              "        [5.1, 3.3, 1.7, 0.5],\n",
              "        [4.8, 3.4, 1.9, 0.2],\n",
              "        [5. , 3. , 1.6, 0.2],\n",
              "        [5. , 3.4, 1.6, 0.4],\n",
              "        [5.2, 3.5, 1.5, 0.2],\n",
              "        [5.2, 3.4, 1.4, 0.2],\n",
              "        [4.7, 3.2, 1.6, 0.2],\n",
              "        [4.8, 3.1, 1.6, 0.2],\n",
              "        [5.4, 3.4, 1.5, 0.4],\n",
              "        [5.2, 4.1, 1.5, 0.1],\n",
              "        [5.5, 4.2, 1.4, 0.2],\n",
              "        [4.9, 3.1, 1.5, 0.2],\n",
              "        [5. , 3.2, 1.2, 0.2],\n",
              "        [5.5, 3.5, 1.3, 0.2],\n",
              "        [4.9, 3.6, 1.4, 0.1],\n",
              "        [4.4, 3. , 1.3, 0.2],\n",
              "        [5.1, 3.4, 1.5, 0.2],\n",
              "        [5. , 3.5, 1.3, 0.3],\n",
              "        [4.5, 2.3, 1.3, 0.3],\n",
              "        [4.4, 3.2, 1.3, 0.2],\n",
              "        [5. , 3.5, 1.6, 0.6],\n",
              "        [5.1, 3.8, 1.9, 0.4],\n",
              "        [4.8, 3. , 1.4, 0.3],\n",
              "        [5.1, 3.8, 1.6, 0.2],\n",
              "        [4.6, 3.2, 1.4, 0.2],\n",
              "        [5.3, 3.7, 1.5, 0.2],\n",
              "        [5. , 3.3, 1.4, 0.2],\n",
              "        [7. , 3.2, 4.7, 1.4],\n",
              "        [6.4, 3.2, 4.5, 1.5],\n",
              "        [6.9, 3.1, 4.9, 1.5],\n",
              "        [5.5, 2.3, 4. , 1.3],\n",
              "        [6.5, 2.8, 4.6, 1.5],\n",
              "        [5.7, 2.8, 4.5, 1.3],\n",
              "        [6.3, 3.3, 4.7, 1.6],\n",
              "        [4.9, 2.4, 3.3, 1. ],\n",
              "        [6.6, 2.9, 4.6, 1.3],\n",
              "        [5.2, 2.7, 3.9, 1.4],\n",
              "        [5. , 2. , 3.5, 1. ],\n",
              "        [5.9, 3. , 4.2, 1.5],\n",
              "        [6. , 2.2, 4. , 1. ],\n",
              "        [6.1, 2.9, 4.7, 1.4],\n",
              "        [5.6, 2.9, 3.6, 1.3],\n",
              "        [6.7, 3.1, 4.4, 1.4],\n",
              "        [5.6, 3. , 4.5, 1.5],\n",
              "        [5.8, 2.7, 4.1, 1. ],\n",
              "        [6.2, 2.2, 4.5, 1.5],\n",
              "        [5.6, 2.5, 3.9, 1.1],\n",
              "        [5.9, 3.2, 4.8, 1.8],\n",
              "        [6.1, 2.8, 4. , 1.3],\n",
              "        [6.3, 2.5, 4.9, 1.5],\n",
              "        [6.1, 2.8, 4.7, 1.2],\n",
              "        [6.4, 2.9, 4.3, 1.3],\n",
              "        [6.6, 3. , 4.4, 1.4],\n",
              "        [6.8, 2.8, 4.8, 1.4],\n",
              "        [6.7, 3. , 5. , 1.7],\n",
              "        [6. , 2.9, 4.5, 1.5],\n",
              "        [5.7, 2.6, 3.5, 1. ],\n",
              "        [5.5, 2.4, 3.8, 1.1],\n",
              "        [5.5, 2.4, 3.7, 1. ],\n",
              "        [5.8, 2.7, 3.9, 1.2],\n",
              "        [6. , 2.7, 5.1, 1.6],\n",
              "        [5.4, 3. , 4.5, 1.5],\n",
              "        [6. , 3.4, 4.5, 1.6],\n",
              "        [6.7, 3.1, 4.7, 1.5],\n",
              "        [6.3, 2.3, 4.4, 1.3],\n",
              "        [5.6, 3. , 4.1, 1.3],\n",
              "        [5.5, 2.5, 4. , 1.3],\n",
              "        [5.5, 2.6, 4.4, 1.2],\n",
              "        [6.1, 3. , 4.6, 1.4],\n",
              "        [5.8, 2.6, 4. , 1.2],\n",
              "        [5. , 2.3, 3.3, 1. ],\n",
              "        [5.6, 2.7, 4.2, 1.3],\n",
              "        [5.7, 3. , 4.2, 1.2],\n",
              "        [5.7, 2.9, 4.2, 1.3],\n",
              "        [6.2, 2.9, 4.3, 1.3],\n",
              "        [5.1, 2.5, 3. , 1.1],\n",
              "        [5.7, 2.8, 4.1, 1.3],\n",
              "        [6.3, 3.3, 6. , 2.5],\n",
              "        [5.8, 2.7, 5.1, 1.9],\n",
              "        [7.1, 3. , 5.9, 2.1],\n",
              "        [6.3, 2.9, 5.6, 1.8],\n",
              "        [6.5, 3. , 5.8, 2.2],\n",
              "        [7.6, 3. , 6.6, 2.1],\n",
              "        [4.9, 2.5, 4.5, 1.7],\n",
              "        [7.3, 2.9, 6.3, 1.8],\n",
              "        [6.7, 2.5, 5.8, 1.8],\n",
              "        [7.2, 3.6, 6.1, 2.5],\n",
              "        [6.5, 3.2, 5.1, 2. ],\n",
              "        [6.4, 2.7, 5.3, 1.9],\n",
              "        [6.8, 3. , 5.5, 2.1],\n",
              "        [5.7, 2.5, 5. , 2. ],\n",
              "        [5.8, 2.8, 5.1, 2.4],\n",
              "        [6.4, 3.2, 5.3, 2.3],\n",
              "        [6.5, 3. , 5.5, 1.8],\n",
              "        [7.7, 3.8, 6.7, 2.2],\n",
              "        [7.7, 2.6, 6.9, 2.3],\n",
              "        [6. , 2.2, 5. , 1.5],\n",
              "        [6.9, 3.2, 5.7, 2.3],\n",
              "        [5.6, 2.8, 4.9, 2. ],\n",
              "        [7.7, 2.8, 6.7, 2. ],\n",
              "        [6.3, 2.7, 4.9, 1.8],\n",
              "        [6.7, 3.3, 5.7, 2.1],\n",
              "        [7.2, 3.2, 6. , 1.8],\n",
              "        [6.2, 2.8, 4.8, 1.8],\n",
              "        [6.1, 3. , 4.9, 1.8],\n",
              "        [6.4, 2.8, 5.6, 2.1],\n",
              "        [7.2, 3. , 5.8, 1.6],\n",
              "        [7.4, 2.8, 6.1, 1.9],\n",
              "        [7.9, 3.8, 6.4, 2. ],\n",
              "        [6.4, 2.8, 5.6, 2.2],\n",
              "        [6.3, 2.8, 5.1, 1.5],\n",
              "        [6.1, 2.6, 5.6, 1.4],\n",
              "        [7.7, 3. , 6.1, 2.3],\n",
              "        [6.3, 3.4, 5.6, 2.4],\n",
              "        [6.4, 3.1, 5.5, 1.8],\n",
              "        [6. , 3. , 4.8, 1.8],\n",
              "        [6.9, 3.1, 5.4, 2.1],\n",
              "        [6.7, 3.1, 5.6, 2.4],\n",
              "        [6.9, 3.1, 5.1, 2.3],\n",
              "        [5.8, 2.7, 5.1, 1.9],\n",
              "        [6.8, 3.2, 5.9, 2.3],\n",
              "        [6.7, 3.3, 5.7, 2.5],\n",
              "        [6.7, 3. , 5.2, 2.3],\n",
              "        [6.3, 2.5, 5. , 1.9],\n",
              "        [6.5, 3. , 5.2, 2. ],\n",
              "        [6.2, 3.4, 5.4, 2.3],\n",
              "        [5.9, 3. , 5.1, 1.8]]),\n",
              " 'feature_names': ['sepal length (cm)',\n",
              "  'sepal width (cm)',\n",
              "  'petal length (cm)',\n",
              "  'petal width (cm)'],\n",
              " 'filename': '/usr/local/lib/python3.6/dist-packages/sklearn/datasets/data/iris.csv',\n",
              " 'target': array([0, 0, 0, 0, 0, 0, 0, 0, 0, 0, 0, 0, 0, 0, 0, 0, 0, 0, 0, 0, 0, 0,\n",
              "        0, 0, 0, 0, 0, 0, 0, 0, 0, 0, 0, 0, 0, 0, 0, 0, 0, 0, 0, 0, 0, 0,\n",
              "        0, 0, 0, 0, 0, 0, 1, 1, 1, 1, 1, 1, 1, 1, 1, 1, 1, 1, 1, 1, 1, 1,\n",
              "        1, 1, 1, 1, 1, 1, 1, 1, 1, 1, 1, 1, 1, 1, 1, 1, 1, 1, 1, 1, 1, 1,\n",
              "        1, 1, 1, 1, 1, 1, 1, 1, 1, 1, 1, 1, 2, 2, 2, 2, 2, 2, 2, 2, 2, 2,\n",
              "        2, 2, 2, 2, 2, 2, 2, 2, 2, 2, 2, 2, 2, 2, 2, 2, 2, 2, 2, 2, 2, 2,\n",
              "        2, 2, 2, 2, 2, 2, 2, 2, 2, 2, 2, 2, 2, 2, 2, 2, 2, 2]),\n",
              " 'target_names': array(['setosa', 'versicolor', 'virginica'], dtype='<U10')}"
            ]
          },
          "metadata": {
            "tags": []
          },
          "execution_count": 2
        }
      ]
    },
    {
      "cell_type": "markdown",
      "metadata": {
        "id": "B4lKFHv7x9ah"
      },
      "source": [
        "**First Twenty Row**"
      ]
    },
    {
      "cell_type": "code",
      "metadata": {
        "colab": {
          "base_uri": "https://localhost:8080/",
          "height": 639
        },
        "id": "RUgZquRpW_HB",
        "outputId": "2412824f-4b1e-4751-8c66-a964de06ddfd"
      },
      "source": [
        "iris_df = pd.DataFrame(iris.data,columns=iris.feature_names)\r\n",
        "iris_df.head(20)"
      ],
      "execution_count": 3,
      "outputs": [
        {
          "output_type": "execute_result",
          "data": {
            "text/html": [
              "<div>\n",
              "<style scoped>\n",
              "    .dataframe tbody tr th:only-of-type {\n",
              "        vertical-align: middle;\n",
              "    }\n",
              "\n",
              "    .dataframe tbody tr th {\n",
              "        vertical-align: top;\n",
              "    }\n",
              "\n",
              "    .dataframe thead th {\n",
              "        text-align: right;\n",
              "    }\n",
              "</style>\n",
              "<table border=\"1\" class=\"dataframe\">\n",
              "  <thead>\n",
              "    <tr style=\"text-align: right;\">\n",
              "      <th></th>\n",
              "      <th>sepal length (cm)</th>\n",
              "      <th>sepal width (cm)</th>\n",
              "      <th>petal length (cm)</th>\n",
              "      <th>petal width (cm)</th>\n",
              "    </tr>\n",
              "  </thead>\n",
              "  <tbody>\n",
              "    <tr>\n",
              "      <th>0</th>\n",
              "      <td>5.1</td>\n",
              "      <td>3.5</td>\n",
              "      <td>1.4</td>\n",
              "      <td>0.2</td>\n",
              "    </tr>\n",
              "    <tr>\n",
              "      <th>1</th>\n",
              "      <td>4.9</td>\n",
              "      <td>3.0</td>\n",
              "      <td>1.4</td>\n",
              "      <td>0.2</td>\n",
              "    </tr>\n",
              "    <tr>\n",
              "      <th>2</th>\n",
              "      <td>4.7</td>\n",
              "      <td>3.2</td>\n",
              "      <td>1.3</td>\n",
              "      <td>0.2</td>\n",
              "    </tr>\n",
              "    <tr>\n",
              "      <th>3</th>\n",
              "      <td>4.6</td>\n",
              "      <td>3.1</td>\n",
              "      <td>1.5</td>\n",
              "      <td>0.2</td>\n",
              "    </tr>\n",
              "    <tr>\n",
              "      <th>4</th>\n",
              "      <td>5.0</td>\n",
              "      <td>3.6</td>\n",
              "      <td>1.4</td>\n",
              "      <td>0.2</td>\n",
              "    </tr>\n",
              "    <tr>\n",
              "      <th>5</th>\n",
              "      <td>5.4</td>\n",
              "      <td>3.9</td>\n",
              "      <td>1.7</td>\n",
              "      <td>0.4</td>\n",
              "    </tr>\n",
              "    <tr>\n",
              "      <th>6</th>\n",
              "      <td>4.6</td>\n",
              "      <td>3.4</td>\n",
              "      <td>1.4</td>\n",
              "      <td>0.3</td>\n",
              "    </tr>\n",
              "    <tr>\n",
              "      <th>7</th>\n",
              "      <td>5.0</td>\n",
              "      <td>3.4</td>\n",
              "      <td>1.5</td>\n",
              "      <td>0.2</td>\n",
              "    </tr>\n",
              "    <tr>\n",
              "      <th>8</th>\n",
              "      <td>4.4</td>\n",
              "      <td>2.9</td>\n",
              "      <td>1.4</td>\n",
              "      <td>0.2</td>\n",
              "    </tr>\n",
              "    <tr>\n",
              "      <th>9</th>\n",
              "      <td>4.9</td>\n",
              "      <td>3.1</td>\n",
              "      <td>1.5</td>\n",
              "      <td>0.1</td>\n",
              "    </tr>\n",
              "    <tr>\n",
              "      <th>10</th>\n",
              "      <td>5.4</td>\n",
              "      <td>3.7</td>\n",
              "      <td>1.5</td>\n",
              "      <td>0.2</td>\n",
              "    </tr>\n",
              "    <tr>\n",
              "      <th>11</th>\n",
              "      <td>4.8</td>\n",
              "      <td>3.4</td>\n",
              "      <td>1.6</td>\n",
              "      <td>0.2</td>\n",
              "    </tr>\n",
              "    <tr>\n",
              "      <th>12</th>\n",
              "      <td>4.8</td>\n",
              "      <td>3.0</td>\n",
              "      <td>1.4</td>\n",
              "      <td>0.1</td>\n",
              "    </tr>\n",
              "    <tr>\n",
              "      <th>13</th>\n",
              "      <td>4.3</td>\n",
              "      <td>3.0</td>\n",
              "      <td>1.1</td>\n",
              "      <td>0.1</td>\n",
              "    </tr>\n",
              "    <tr>\n",
              "      <th>14</th>\n",
              "      <td>5.8</td>\n",
              "      <td>4.0</td>\n",
              "      <td>1.2</td>\n",
              "      <td>0.2</td>\n",
              "    </tr>\n",
              "    <tr>\n",
              "      <th>15</th>\n",
              "      <td>5.7</td>\n",
              "      <td>4.4</td>\n",
              "      <td>1.5</td>\n",
              "      <td>0.4</td>\n",
              "    </tr>\n",
              "    <tr>\n",
              "      <th>16</th>\n",
              "      <td>5.4</td>\n",
              "      <td>3.9</td>\n",
              "      <td>1.3</td>\n",
              "      <td>0.4</td>\n",
              "    </tr>\n",
              "    <tr>\n",
              "      <th>17</th>\n",
              "      <td>5.1</td>\n",
              "      <td>3.5</td>\n",
              "      <td>1.4</td>\n",
              "      <td>0.3</td>\n",
              "    </tr>\n",
              "    <tr>\n",
              "      <th>18</th>\n",
              "      <td>5.7</td>\n",
              "      <td>3.8</td>\n",
              "      <td>1.7</td>\n",
              "      <td>0.3</td>\n",
              "    </tr>\n",
              "    <tr>\n",
              "      <th>19</th>\n",
              "      <td>5.1</td>\n",
              "      <td>3.8</td>\n",
              "      <td>1.5</td>\n",
              "      <td>0.3</td>\n",
              "    </tr>\n",
              "  </tbody>\n",
              "</table>\n",
              "</div>"
            ],
            "text/plain": [
              "    sepal length (cm)  sepal width (cm)  petal length (cm)  petal width (cm)\n",
              "0                 5.1               3.5                1.4               0.2\n",
              "1                 4.9               3.0                1.4               0.2\n",
              "2                 4.7               3.2                1.3               0.2\n",
              "3                 4.6               3.1                1.5               0.2\n",
              "4                 5.0               3.6                1.4               0.2\n",
              "5                 5.4               3.9                1.7               0.4\n",
              "6                 4.6               3.4                1.4               0.3\n",
              "7                 5.0               3.4                1.5               0.2\n",
              "8                 4.4               2.9                1.4               0.2\n",
              "9                 4.9               3.1                1.5               0.1\n",
              "10                5.4               3.7                1.5               0.2\n",
              "11                4.8               3.4                1.6               0.2\n",
              "12                4.8               3.0                1.4               0.1\n",
              "13                4.3               3.0                1.1               0.1\n",
              "14                5.8               4.0                1.2               0.2\n",
              "15                5.7               4.4                1.5               0.4\n",
              "16                5.4               3.9                1.3               0.4\n",
              "17                5.1               3.5                1.4               0.3\n",
              "18                5.7               3.8                1.7               0.3\n",
              "19                5.1               3.8                1.5               0.3"
            ]
          },
          "metadata": {
            "tags": []
          },
          "execution_count": 3
        }
      ]
    },
    {
      "cell_type": "markdown",
      "metadata": {
        "id": "l0KfS_FN2MMP"
      },
      "source": [
        "**More information about dataset**"
      ]
    },
    {
      "cell_type": "code",
      "metadata": {
        "colab": {
          "base_uri": "https://localhost:8080/"
        },
        "id": "iJsV7NV-Zs-n",
        "outputId": "b61cef5e-7abb-4b3c-c5f6-63681bb8daf2"
      },
      "source": [
        "iris_df.info()"
      ],
      "execution_count": 4,
      "outputs": [
        {
          "output_type": "stream",
          "text": [
            "<class 'pandas.core.frame.DataFrame'>\n",
            "RangeIndex: 150 entries, 0 to 149\n",
            "Data columns (total 4 columns):\n",
            " #   Column             Non-Null Count  Dtype  \n",
            "---  ------             --------------  -----  \n",
            " 0   sepal length (cm)  150 non-null    float64\n",
            " 1   sepal width (cm)   150 non-null    float64\n",
            " 2   petal length (cm)  150 non-null    float64\n",
            " 3   petal width (cm)   150 non-null    float64\n",
            "dtypes: float64(4)\n",
            "memory usage: 4.8 KB\n"
          ],
          "name": "stdout"
        }
      ]
    },
    {
      "cell_type": "markdown",
      "metadata": {
        "id": "K4D9TbMT2XNj"
      },
      "source": [
        "**Number of rows and columns**"
      ]
    },
    {
      "cell_type": "code",
      "metadata": {
        "colab": {
          "base_uri": "https://localhost:8080/"
        },
        "id": "U8UTyT0-Z0KY",
        "outputId": "b83d7ee7-6d67-4dd4-f49d-fa5654da04b3"
      },
      "source": [
        "iris_df.shape"
      ],
      "execution_count": 5,
      "outputs": [
        {
          "output_type": "execute_result",
          "data": {
            "text/plain": [
              "(150, 4)"
            ]
          },
          "metadata": {
            "tags": []
          },
          "execution_count": 5
        }
      ]
    },
    {
      "cell_type": "markdown",
      "metadata": {
        "id": "6r2_GDIl2iws"
      },
      "source": [
        "**Descriptive Statistics**"
      ]
    },
    {
      "cell_type": "code",
      "metadata": {
        "colab": {
          "base_uri": "https://localhost:8080/",
          "height": 284
        },
        "id": "-83j-6iCZ6qS",
        "outputId": "ccd5c7ee-d4e2-4e6c-e57a-8210da970df2"
      },
      "source": [
        "iris_df.describe()"
      ],
      "execution_count": 6,
      "outputs": [
        {
          "output_type": "execute_result",
          "data": {
            "text/html": [
              "<div>\n",
              "<style scoped>\n",
              "    .dataframe tbody tr th:only-of-type {\n",
              "        vertical-align: middle;\n",
              "    }\n",
              "\n",
              "    .dataframe tbody tr th {\n",
              "        vertical-align: top;\n",
              "    }\n",
              "\n",
              "    .dataframe thead th {\n",
              "        text-align: right;\n",
              "    }\n",
              "</style>\n",
              "<table border=\"1\" class=\"dataframe\">\n",
              "  <thead>\n",
              "    <tr style=\"text-align: right;\">\n",
              "      <th></th>\n",
              "      <th>sepal length (cm)</th>\n",
              "      <th>sepal width (cm)</th>\n",
              "      <th>petal length (cm)</th>\n",
              "      <th>petal width (cm)</th>\n",
              "    </tr>\n",
              "  </thead>\n",
              "  <tbody>\n",
              "    <tr>\n",
              "      <th>count</th>\n",
              "      <td>150.000000</td>\n",
              "      <td>150.000000</td>\n",
              "      <td>150.000000</td>\n",
              "      <td>150.000000</td>\n",
              "    </tr>\n",
              "    <tr>\n",
              "      <th>mean</th>\n",
              "      <td>5.843333</td>\n",
              "      <td>3.057333</td>\n",
              "      <td>3.758000</td>\n",
              "      <td>1.199333</td>\n",
              "    </tr>\n",
              "    <tr>\n",
              "      <th>std</th>\n",
              "      <td>0.828066</td>\n",
              "      <td>0.435866</td>\n",
              "      <td>1.765298</td>\n",
              "      <td>0.762238</td>\n",
              "    </tr>\n",
              "    <tr>\n",
              "      <th>min</th>\n",
              "      <td>4.300000</td>\n",
              "      <td>2.000000</td>\n",
              "      <td>1.000000</td>\n",
              "      <td>0.100000</td>\n",
              "    </tr>\n",
              "    <tr>\n",
              "      <th>25%</th>\n",
              "      <td>5.100000</td>\n",
              "      <td>2.800000</td>\n",
              "      <td>1.600000</td>\n",
              "      <td>0.300000</td>\n",
              "    </tr>\n",
              "    <tr>\n",
              "      <th>50%</th>\n",
              "      <td>5.800000</td>\n",
              "      <td>3.000000</td>\n",
              "      <td>4.350000</td>\n",
              "      <td>1.300000</td>\n",
              "    </tr>\n",
              "    <tr>\n",
              "      <th>75%</th>\n",
              "      <td>6.400000</td>\n",
              "      <td>3.300000</td>\n",
              "      <td>5.100000</td>\n",
              "      <td>1.800000</td>\n",
              "    </tr>\n",
              "    <tr>\n",
              "      <th>max</th>\n",
              "      <td>7.900000</td>\n",
              "      <td>4.400000</td>\n",
              "      <td>6.900000</td>\n",
              "      <td>2.500000</td>\n",
              "    </tr>\n",
              "  </tbody>\n",
              "</table>\n",
              "</div>"
            ],
            "text/plain": [
              "       sepal length (cm)  sepal width (cm)  petal length (cm)  petal width (cm)\n",
              "count         150.000000        150.000000         150.000000        150.000000\n",
              "mean            5.843333          3.057333           3.758000          1.199333\n",
              "std             0.828066          0.435866           1.765298          0.762238\n",
              "min             4.300000          2.000000           1.000000          0.100000\n",
              "25%             5.100000          2.800000           1.600000          0.300000\n",
              "50%             5.800000          3.000000           4.350000          1.300000\n",
              "75%             6.400000          3.300000           5.100000          1.800000\n",
              "max             7.900000          4.400000           6.900000          2.500000"
            ]
          },
          "metadata": {
            "tags": []
          },
          "execution_count": 6
        }
      ]
    },
    {
      "cell_type": "markdown",
      "metadata": {
        "id": "hdqQDBmI2rax"
      },
      "source": [
        "**Correlation**"
      ]
    },
    {
      "cell_type": "code",
      "metadata": {
        "colab": {
          "base_uri": "https://localhost:8080/",
          "height": 166
        },
        "id": "FySC2LPfajgz",
        "outputId": "5d590048-d761-429e-edcf-857f7861ecf8"
      },
      "source": [
        "iris_df.corr()"
      ],
      "execution_count": 7,
      "outputs": [
        {
          "output_type": "execute_result",
          "data": {
            "text/html": [
              "<div>\n",
              "<style scoped>\n",
              "    .dataframe tbody tr th:only-of-type {\n",
              "        vertical-align: middle;\n",
              "    }\n",
              "\n",
              "    .dataframe tbody tr th {\n",
              "        vertical-align: top;\n",
              "    }\n",
              "\n",
              "    .dataframe thead th {\n",
              "        text-align: right;\n",
              "    }\n",
              "</style>\n",
              "<table border=\"1\" class=\"dataframe\">\n",
              "  <thead>\n",
              "    <tr style=\"text-align: right;\">\n",
              "      <th></th>\n",
              "      <th>sepal length (cm)</th>\n",
              "      <th>sepal width (cm)</th>\n",
              "      <th>petal length (cm)</th>\n",
              "      <th>petal width (cm)</th>\n",
              "    </tr>\n",
              "  </thead>\n",
              "  <tbody>\n",
              "    <tr>\n",
              "      <th>sepal length (cm)</th>\n",
              "      <td>1.000000</td>\n",
              "      <td>-0.117570</td>\n",
              "      <td>0.871754</td>\n",
              "      <td>0.817941</td>\n",
              "    </tr>\n",
              "    <tr>\n",
              "      <th>sepal width (cm)</th>\n",
              "      <td>-0.117570</td>\n",
              "      <td>1.000000</td>\n",
              "      <td>-0.428440</td>\n",
              "      <td>-0.366126</td>\n",
              "    </tr>\n",
              "    <tr>\n",
              "      <th>petal length (cm)</th>\n",
              "      <td>0.871754</td>\n",
              "      <td>-0.428440</td>\n",
              "      <td>1.000000</td>\n",
              "      <td>0.962865</td>\n",
              "    </tr>\n",
              "    <tr>\n",
              "      <th>petal width (cm)</th>\n",
              "      <td>0.817941</td>\n",
              "      <td>-0.366126</td>\n",
              "      <td>0.962865</td>\n",
              "      <td>1.000000</td>\n",
              "    </tr>\n",
              "  </tbody>\n",
              "</table>\n",
              "</div>"
            ],
            "text/plain": [
              "                   sepal length (cm)  ...  petal width (cm)\n",
              "sepal length (cm)           1.000000  ...          0.817941\n",
              "sepal width (cm)           -0.117570  ...         -0.366126\n",
              "petal length (cm)           0.871754  ...          0.962865\n",
              "petal width (cm)            0.817941  ...          1.000000\n",
              "\n",
              "[4 rows x 4 columns]"
            ]
          },
          "metadata": {
            "tags": []
          },
          "execution_count": 7
        }
      ]
    },
    {
      "cell_type": "code",
      "metadata": {
        "colab": {
          "base_uri": "https://localhost:8080/"
        },
        "id": "TvE2TYe7gsG8",
        "outputId": "25804918-81b2-4142-908f-0181bd7c6e59"
      },
      "source": [
        "iris_df['sepal length (cm)'].corr(iris_df['sepal width (cm)'])"
      ],
      "execution_count": 8,
      "outputs": [
        {
          "output_type": "execute_result",
          "data": {
            "text/plain": [
              "-0.11756978413300208"
            ]
          },
          "metadata": {
            "tags": []
          },
          "execution_count": 8
        }
      ]
    },
    {
      "cell_type": "markdown",
      "metadata": {
        "id": "oSOksOSj2zOi"
      },
      "source": [
        "**Visualizing the dataset using graphs**"
      ]
    },
    {
      "cell_type": "code",
      "metadata": {
        "colab": {
          "base_uri": "https://localhost:8080/",
          "height": 312
        },
        "id": "JeJhpXlgcAyg",
        "outputId": "643ceac1-809a-4373-acab-d5d3bc1fd4c9"
      },
      "source": [
        "plt.figure(figsize=(10,5),dpi=120)\r\n",
        "iris_df.plot(x='petal length (cm)',y='petal width (cm)',style='o',markersize=7)\r\n",
        "plt.title('PETAL WIDTH VS PETAL LENGTH')\r\n",
        "plt.xlabel('PETAL LENGTH')\r\n",
        "plt.ylabel('PETAL WIDTH')\r\n",
        "plt.grid()\r\n",
        "plt.show()"
      ],
      "execution_count": 9,
      "outputs": [
        {
          "output_type": "display_data",
          "data": {
            "text/plain": [
              "<Figure size 1200x600 with 0 Axes>"
            ]
          },
          "metadata": {
            "tags": []
          }
        },
        {
          "output_type": "display_data",
          "data": {
            "image/png": "[encoded data removed]",
            "text/plain": [
              "<Figure size 432x288 with 1 Axes>"
            ]
          },
          "metadata": {
            "tags": [],
            "needs_background": "light"
          }
        }
      ]
    },
    {
      "cell_type": "code",
      "metadata": {
        "colab": {
          "base_uri": "https://localhost:8080/",
          "height": 295
        },
        "id": "wRN_sqlRFA74",
        "outputId": "60b27054-99b9-4db7-fa01-1330f077dcc6"
      },
      "source": [
        "iris_df.plot(x='sepal length (cm)',y='sepal width (cm)',style='o',markersize=8)\r\n",
        "plt.title('SEPAL WIDTH VS SEPAL LENGTH')\r\n",
        "plt.xlabel('SEPAL LENGTH')\r\n",
        "plt.ylabel('SEPAL WIDTH')\r\n",
        "plt.grid()\r\n",
        "plt.show()"
      ],
      "execution_count": 10,
      "outputs": [
        {
          "output_type": "display_data",
          "data": {
            "image/png": "[encoded data removed]",
            "text/plain": [
              "<Figure size 432x288 with 1 Axes>"
            ]
          },
          "metadata": {
            "tags": [],
            "needs_background": "light"
          }
        }
      ]
    },
    {
      "cell_type": "code",
      "metadata": {
        "colab": {
          "base_uri": "https://localhost:8080/",
          "height": 295
        },
        "id": "IV67866ocWHz",
        "outputId": "4ed9568e-3336-4486-c50f-81fdf17fcd59"
      },
      "source": [
        "iris_df.plot(x='sepal length (cm)',y='petal length (cm)',style='o',markersize=8)\r\n",
        "plt.title('SEPAL WIDTH VS Petal LENGTH')\r\n",
        "plt.xlabel('SEPAL LENGTH')\r\n",
        "plt.ylabel('PETAL LENGTH')\r\n",
        "plt.grid()\r\n",
        "plt.show()"
      ],
      "execution_count": 11,
      "outputs": [
        {
          "output_type": "display_data",
          "data": {
            "image/png": "[encoded data removed]",
            "text/plain": [
              "<Figure size 432x288 with 1 Axes>"
            ]
          },
          "metadata": {
            "tags": [],
            "needs_background": "light"
          }
        }
      ]
    },
    {
      "cell_type": "markdown",
      "metadata": {
        "id": "tbvBG0Md2_oF"
      },
      "source": [
        "***Normalization:The goal of normalization is to change the values of numeric columns in the dataset to use a common scale,without distorting differences in the ranges of values or losing the information***"
      ]
    },
    {
      "cell_type": "code",
      "metadata": {
        "colab": {
          "base_uri": "https://localhost:8080/",
          "height": 195
        },
        "id": "tSYZSYerxeuN",
        "outputId": "9d844678-174d-4ad1-a756-322675871b9b"
      },
      "source": [
        "from sklearn.preprocessing import Normalizer \r\n",
        "norm=Normalizer()\r\n",
        "columns=iris.feature_names\r\n",
        "iris_df=norm.fit_transform(iris_df)\r\n",
        "iris_df=pd.DataFrame(iris_df,columns=columns)\r\n",
        "iris_df.head()"
      ],
      "execution_count": 12,
      "outputs": [
        {
          "output_type": "execute_result",
          "data": {
            "text/html": [
              "<div>\n",
              "<style scoped>\n",
              "    .dataframe tbody tr th:only-of-type {\n",
              "        vertical-align: middle;\n",
              "    }\n",
              "\n",
              "    .dataframe tbody tr th {\n",
              "        vertical-align: top;\n",
              "    }\n",
              "\n",
              "    .dataframe thead th {\n",
              "        text-align: right;\n",
              "    }\n",
              "</style>\n",
              "<table border=\"1\" class=\"dataframe\">\n",
              "  <thead>\n",
              "    <tr style=\"text-align: right;\">\n",
              "      <th></th>\n",
              "      <th>sepal length (cm)</th>\n",
              "      <th>sepal width (cm)</th>\n",
              "      <th>petal length (cm)</th>\n",
              "      <th>petal width (cm)</th>\n",
              "    </tr>\n",
              "  </thead>\n",
              "  <tbody>\n",
              "    <tr>\n",
              "      <th>0</th>\n",
              "      <td>0.803773</td>\n",
              "      <td>0.551609</td>\n",
              "      <td>0.220644</td>\n",
              "      <td>0.031521</td>\n",
              "    </tr>\n",
              "    <tr>\n",
              "      <th>1</th>\n",
              "      <td>0.828133</td>\n",
              "      <td>0.507020</td>\n",
              "      <td>0.236609</td>\n",
              "      <td>0.033801</td>\n",
              "    </tr>\n",
              "    <tr>\n",
              "      <th>2</th>\n",
              "      <td>0.805333</td>\n",
              "      <td>0.548312</td>\n",
              "      <td>0.222752</td>\n",
              "      <td>0.034269</td>\n",
              "    </tr>\n",
              "    <tr>\n",
              "      <th>3</th>\n",
              "      <td>0.800030</td>\n",
              "      <td>0.539151</td>\n",
              "      <td>0.260879</td>\n",
              "      <td>0.034784</td>\n",
              "    </tr>\n",
              "    <tr>\n",
              "      <th>4</th>\n",
              "      <td>0.790965</td>\n",
              "      <td>0.569495</td>\n",
              "      <td>0.221470</td>\n",
              "      <td>0.031639</td>\n",
              "    </tr>\n",
              "  </tbody>\n",
              "</table>\n",
              "</div>"
            ],
            "text/plain": [
              "   sepal length (cm)  sepal width (cm)  petal length (cm)  petal width (cm)\n",
              "0           0.803773          0.551609           0.220644          0.031521\n",
              "1           0.828133          0.507020           0.236609          0.033801\n",
              "2           0.805333          0.548312           0.222752          0.034269\n",
              "3           0.800030          0.539151           0.260879          0.034784\n",
              "4           0.790965          0.569495           0.221470          0.031639"
            ]
          },
          "metadata": {
            "tags": []
          },
          "execution_count": 12
        }
      ]
    },
    {
      "cell_type": "code",
      "metadata": {
        "colab": {
          "base_uri": "https://localhost:8080/"
        },
        "id": "EJmnEogscvzi",
        "outputId": "a9dc7ab9-9f83-4b2e-a152-ad261741e14c"
      },
      "source": [
        "x=iris_df.iloc[:,[0,1,2,3]].values\r\n",
        "x"
      ],
      "execution_count": 13,
      "outputs": [
        {
          "output_type": "execute_result",
          "data": {
            "text/plain": [
              "array([[0.80377277, 0.55160877, 0.22064351, 0.0315205 ],\n",
              "       [0.82813287, 0.50702013, 0.23660939, 0.03380134],\n",
              "       [0.80533308, 0.54831188, 0.2227517 , 0.03426949],\n",
              "       [0.80003025, 0.53915082, 0.26087943, 0.03478392],\n",
              "       [0.790965  , 0.5694948 , 0.2214702 , 0.0316386 ],\n",
              "       [0.78417499, 0.5663486 , 0.2468699 , 0.05808704],\n",
              "       [0.78010936, 0.57660257, 0.23742459, 0.0508767 ],\n",
              "       [0.80218492, 0.54548574, 0.24065548, 0.0320874 ],\n",
              "       [0.80642366, 0.5315065 , 0.25658935, 0.03665562],\n",
              "       [0.81803119, 0.51752994, 0.25041771, 0.01669451],\n",
              "       [0.80373519, 0.55070744, 0.22325977, 0.02976797],\n",
              "       [0.786991  , 0.55745196, 0.26233033, 0.03279129],\n",
              "       [0.82307218, 0.51442011, 0.24006272, 0.01714734],\n",
              "       [0.8025126 , 0.55989251, 0.20529392, 0.01866308],\n",
              "       [0.81120865, 0.55945424, 0.16783627, 0.02797271],\n",
              "       [0.77381111, 0.59732787, 0.2036345 , 0.05430253],\n",
              "       [0.79428944, 0.57365349, 0.19121783, 0.05883625],\n",
              "       [0.80327412, 0.55126656, 0.22050662, 0.04725142],\n",
              "       [0.8068282 , 0.53788547, 0.24063297, 0.04246464],\n",
              "       [0.77964883, 0.58091482, 0.22930848, 0.0458617 ],\n",
              "       [0.8173379 , 0.51462016, 0.25731008, 0.03027177],\n",
              "       [0.78591858, 0.57017622, 0.23115252, 0.06164067],\n",
              "       [0.77577075, 0.60712493, 0.16864581, 0.03372916],\n",
              "       [0.80597792, 0.52151512, 0.26865931, 0.07901744],\n",
              "       [0.776114  , 0.54974742, 0.30721179, 0.03233808],\n",
              "       [0.82647451, 0.4958847 , 0.26447184, 0.03305898],\n",
              "       [0.79778206, 0.5424918 , 0.25529026, 0.06382256],\n",
              "       [0.80641965, 0.54278246, 0.23262105, 0.03101614],\n",
              "       [0.81609427, 0.5336001 , 0.21971769, 0.03138824],\n",
              "       [0.79524064, 0.54144043, 0.27072022, 0.03384003],\n",
              "       [0.80846584, 0.52213419, 0.26948861, 0.03368608],\n",
              "       [0.82225028, 0.51771314, 0.22840286, 0.06090743],\n",
              "       [0.76578311, 0.60379053, 0.22089897, 0.0147266 ],\n",
              "       [0.77867447, 0.59462414, 0.19820805, 0.02831544],\n",
              "       [0.81768942, 0.51731371, 0.25031309, 0.03337508],\n",
              "       [0.82512295, 0.52807869, 0.19802951, 0.03300492],\n",
              "       [0.82699754, 0.52627116, 0.19547215, 0.03007264],\n",
              "       [0.78523221, 0.5769053 , 0.22435206, 0.01602515],\n",
              "       [0.80212413, 0.54690282, 0.23699122, 0.03646019],\n",
              "       [0.80779568, 0.53853046, 0.23758697, 0.03167826],\n",
              "       [0.80033301, 0.56023311, 0.20808658, 0.04801998],\n",
              "       [0.86093857, 0.44003527, 0.24871559, 0.0573959 ],\n",
              "       [0.78609038, 0.57170209, 0.23225397, 0.03573138],\n",
              "       [0.78889479, 0.55222635, 0.25244633, 0.09466737],\n",
              "       [0.76693897, 0.57144472, 0.28572236, 0.06015208],\n",
              "       [0.82210585, 0.51381615, 0.23978087, 0.05138162],\n",
              "       [0.77729093, 0.57915795, 0.24385598, 0.030482  ],\n",
              "       [0.79594782, 0.55370283, 0.24224499, 0.03460643],\n",
              "       [0.79837025, 0.55735281, 0.22595384, 0.03012718],\n",
              "       [0.81228363, 0.5361072 , 0.22743942, 0.03249135],\n",
              "       [0.76701103, 0.35063361, 0.51499312, 0.15340221],\n",
              "       [0.74549757, 0.37274878, 0.52417798, 0.17472599],\n",
              "       [0.75519285, 0.33928954, 0.53629637, 0.16417236],\n",
              "       [0.75384916, 0.31524601, 0.54825394, 0.17818253],\n",
              "       [0.7581754 , 0.32659863, 0.5365549 , 0.17496355],\n",
              "       [0.72232962, 0.35482858, 0.57026022, 0.16474184],\n",
              "       [0.72634846, 0.38046824, 0.54187901, 0.18446945],\n",
              "       [0.75916547, 0.37183615, 0.51127471, 0.15493173],\n",
              "       [0.76301853, 0.33526572, 0.53180079, 0.15029153],\n",
              "       [0.72460233, 0.37623583, 0.54345175, 0.19508524],\n",
              "       [0.76923077, 0.30769231, 0.53846154, 0.15384615],\n",
              "       [0.73923462, 0.37588201, 0.52623481, 0.187941  ],\n",
              "       [0.78892752, 0.28927343, 0.52595168, 0.13148792],\n",
              "       [0.73081412, 0.34743622, 0.56308629, 0.16772783],\n",
              "       [0.75911707, 0.3931142 , 0.48800383, 0.17622361],\n",
              "       [0.76945444, 0.35601624, 0.50531337, 0.16078153],\n",
              "       [0.70631892, 0.37838513, 0.5675777 , 0.18919257],\n",
              "       [0.75676497, 0.35228714, 0.53495455, 0.13047672],\n",
              "       [0.76444238, 0.27125375, 0.55483721, 0.18494574],\n",
              "       [0.76185188, 0.34011245, 0.53057542, 0.14964948],\n",
              "       [0.6985796 , 0.37889063, 0.56833595, 0.21312598],\n",
              "       [0.77011854, 0.35349703, 0.50499576, 0.16412362],\n",
              "       [0.74143307, 0.29421947, 0.57667016, 0.17653168],\n",
              "       [0.73659895, 0.33811099, 0.56754345, 0.14490471],\n",
              "       [0.76741698, 0.34773582, 0.51560829, 0.15588157],\n",
              "       [0.76785726, 0.34902603, 0.51190484, 0.16287881],\n",
              "       [0.76467269, 0.31486523, 0.53976896, 0.15743261],\n",
              "       [0.74088576, 0.33173989, 0.55289982, 0.18798594],\n",
              "       [0.73350949, 0.35452959, 0.55013212, 0.18337737],\n",
              "       [0.78667474, 0.35883409, 0.48304589, 0.13801311],\n",
              "       [0.76521855, 0.33391355, 0.52869645, 0.15304371],\n",
              "       [0.77242925, 0.33706004, 0.51963422, 0.14044168],\n",
              "       [0.76434981, 0.35581802, 0.51395936, 0.15814134],\n",
              "       [0.70779525, 0.31850786, 0.60162596, 0.1887454 ],\n",
              "       [0.69333409, 0.38518561, 0.57777841, 0.1925928 ],\n",
              "       [0.71524936, 0.40530797, 0.53643702, 0.19073316],\n",
              "       [0.75457341, 0.34913098, 0.52932761, 0.16893434],\n",
              "       [0.77530021, 0.28304611, 0.54147951, 0.15998258],\n",
              "       [0.72992443, 0.39103094, 0.53440896, 0.16944674],\n",
              "       [0.74714194, 0.33960997, 0.54337595, 0.17659719],\n",
              "       [0.72337118, 0.34195729, 0.57869695, 0.15782644],\n",
              "       [0.73260391, 0.36029701, 0.55245541, 0.1681386 ],\n",
              "       [0.76262994, 0.34186859, 0.52595168, 0.1577855 ],\n",
              "       [0.76986879, 0.35413965, 0.5081134 , 0.15397376],\n",
              "       [0.73544284, 0.35458851, 0.55158213, 0.1707278 ],\n",
              "       [0.73239618, 0.38547167, 0.53966034, 0.15418867],\n",
              "       [0.73446047, 0.37367287, 0.5411814 , 0.16750853],\n",
              "       [0.75728103, 0.3542121 , 0.52521104, 0.15878473],\n",
              "       [0.78258054, 0.38361791, 0.4603415 , 0.16879188],\n",
              "       [0.7431482 , 0.36505526, 0.5345452 , 0.16948994],\n",
              "       [0.65387747, 0.34250725, 0.62274045, 0.25947519],\n",
              "       [0.69052512, 0.32145135, 0.60718588, 0.22620651],\n",
              "       [0.71491405, 0.30207636, 0.59408351, 0.21145345],\n",
              "       [0.69276796, 0.31889319, 0.61579374, 0.1979337 ],\n",
              "       [0.68619022, 0.31670318, 0.61229281, 0.232249  ],\n",
              "       [0.70953708, 0.28008043, 0.61617694, 0.1960563 ],\n",
              "       [0.67054118, 0.34211284, 0.61580312, 0.23263673],\n",
              "       [0.71366557, 0.28351098, 0.61590317, 0.17597233],\n",
              "       [0.71414125, 0.26647062, 0.61821183, 0.19185884],\n",
              "       [0.69198788, 0.34599394, 0.58626751, 0.24027357],\n",
              "       [0.71562645, 0.3523084 , 0.56149152, 0.22019275],\n",
              "       [0.71576546, 0.30196356, 0.59274328, 0.21249287],\n",
              "       [0.71718148, 0.31640359, 0.58007326, 0.22148252],\n",
              "       [0.6925518 , 0.30375079, 0.60750157, 0.24300063],\n",
              "       [0.67767924, 0.32715549, 0.59589036, 0.28041899],\n",
              "       [0.69589887, 0.34794944, 0.57629125, 0.25008866],\n",
              "       [0.70610474, 0.3258945 , 0.59747324, 0.1955367 ],\n",
              "       [0.69299099, 0.34199555, 0.60299216, 0.19799743],\n",
              "       [0.70600618, 0.2383917 , 0.63265489, 0.21088496],\n",
              "       [0.72712585, 0.26661281, 0.60593821, 0.18178146],\n",
              "       [0.70558934, 0.32722984, 0.58287815, 0.23519645],\n",
              "       [0.68307923, 0.34153961, 0.59769433, 0.24395687],\n",
              "       [0.71486543, 0.25995106, 0.62202576, 0.18567933],\n",
              "       [0.73122464, 0.31338199, 0.56873028, 0.20892133],\n",
              "       [0.69595601, 0.3427843 , 0.59208198, 0.21813547],\n",
              "       [0.71529453, 0.31790868, 0.59607878, 0.17882363],\n",
              "       [0.72785195, 0.32870733, 0.56349829, 0.21131186],\n",
              "       [0.71171214, 0.35002236, 0.57170319, 0.21001342],\n",
              "       [0.69594002, 0.30447376, 0.60894751, 0.22835532],\n",
              "       [0.73089855, 0.30454106, 0.58877939, 0.1624219 ],\n",
              "       [0.72766159, 0.27533141, 0.59982915, 0.18683203],\n",
              "       [0.71578999, 0.34430405, 0.5798805 , 0.18121266],\n",
              "       [0.69417747, 0.30370264, 0.60740528, 0.2386235 ],\n",
              "       [0.72366005, 0.32162669, 0.58582004, 0.17230001],\n",
              "       [0.69385414, 0.29574111, 0.63698085, 0.15924521],\n",
              "       [0.73154399, 0.28501714, 0.57953485, 0.21851314],\n",
              "       [0.67017484, 0.36168166, 0.59571097, 0.2553047 ],\n",
              "       [0.69804799, 0.338117  , 0.59988499, 0.196326  ],\n",
              "       [0.71066905, 0.35533453, 0.56853524, 0.21320072],\n",
              "       [0.72415258, 0.32534391, 0.56672811, 0.22039426],\n",
              "       [0.69997037, 0.32386689, 0.58504986, 0.25073566],\n",
              "       [0.73337886, 0.32948905, 0.54206264, 0.24445962],\n",
              "       [0.69052512, 0.32145135, 0.60718588, 0.22620651],\n",
              "       [0.69193502, 0.32561648, 0.60035539, 0.23403685],\n",
              "       [0.68914871, 0.33943145, 0.58629069, 0.25714504],\n",
              "       [0.72155725, 0.32308533, 0.56001458, 0.24769876],\n",
              "       [0.72965359, 0.28954508, 0.57909015, 0.22005426],\n",
              "       [0.71653899, 0.3307103 , 0.57323119, 0.22047353],\n",
              "       [0.67467072, 0.36998072, 0.58761643, 0.25028107],\n",
              "       [0.69025916, 0.35097923, 0.5966647 , 0.21058754]])"
            ]
          },
          "metadata": {
            "tags": []
          },
          "execution_count": 13
        }
      ]
    },
    {
      "cell_type": "markdown",
      "metadata": {
        "id": "k4i9tGpErJYK"
      },
      "source": [
        "**CLUSTERING:**is the task of dividing the population or data points into a number of groups."
      ]
    },
    {
      "cell_type": "markdown",
      "metadata": {
        "id": "IJYnvDnE31MX"
      },
      "source": [
        "**KMeans-**is an iterative clustering algo that aims to find the local maxima in each iteration. \r\n",
        "\r\n",
        "1.   Step1:Specify the desired number of clusters k\r\n",
        "2.   Step2:Randomly assign each data points in cluster.\r\n",
        "3.   Step3:Compute cluster centroids\r\n",
        "4.   Step4:Re-assign ecah point to the closet cluster centroid\r\n",
        "5.   Step5:Re-compute cluster centroids\r\n",
        "6.   Step6:Repeat steps4 and 5 until no imporvement is possible. \r\n"
      ]
    },
    {
      "cell_type": "markdown",
      "metadata": {
        "id": "k_51lFr89PHg"
      },
      "source": [
        "**K=2**"
      ]
    },
    {
      "cell_type": "code",
      "metadata": {
        "id": "ed7HQTM00UwV"
      },
      "source": [
        "from sklearn.cluster import KMeans\r\n",
        "kmeans=KMeans(n_clusters=2)\r\n",
        "kmeans.fit(iris_df)\r\n",
        "predd=kmeans.predict(iris_df)"
      ],
      "execution_count": 14,
      "outputs": []
    },
    {
      "cell_type": "code",
      "metadata": {
        "colab": {
          "base_uri": "https://localhost:8080/"
        },
        "id": "dVmgH3Uk02FF",
        "outputId": "ca6dcc5c-b74f-4ad6-bebb-b3323cba7d25"
      },
      "source": [
        "predd,len(predd)"
      ],
      "execution_count": 15,
      "outputs": [
        {
          "output_type": "execute_result",
          "data": {
            "text/plain": [
              "(array([1, 1, 1, 1, 1, 1, 1, 1, 1, 1, 1, 1, 1, 1, 1, 1, 1, 1, 1, 1, 1, 1,\n",
              "        1, 1, 1, 1, 1, 1, 1, 1, 1, 1, 1, 1, 1, 1, 1, 1, 1, 1, 1, 1, 1, 1,\n",
              "        1, 1, 1, 1, 1, 1, 0, 0, 0, 0, 0, 0, 0, 0, 0, 0, 0, 0, 0, 0, 0, 0,\n",
              "        0, 0, 0, 0, 0, 0, 0, 0, 0, 0, 0, 0, 0, 0, 0, 0, 0, 0, 0, 0, 0, 0,\n",
              "        0, 0, 0, 0, 0, 0, 0, 0, 0, 0, 0, 0, 0, 0, 0, 0, 0, 0, 0, 0, 0, 0,\n",
              "        0, 0, 0, 0, 0, 0, 0, 0, 0, 0, 0, 0, 0, 0, 0, 0, 0, 0, 0, 0, 0, 0,\n",
              "        0, 0, 0, 0, 0, 0, 0, 0, 0, 0, 0, 0, 0, 0, 0, 0, 0, 0], dtype=int32),\n",
              " 150)"
            ]
          },
          "metadata": {
            "tags": []
          },
          "execution_count": 15
        }
      ]
    },
    {
      "cell_type": "markdown",
      "metadata": {
        "id": "AqUqGLjb7TMM"
      },
      "source": [
        "**Method to measure the cluster quality here we use Inertia:**\r\n",
        "Inertia tells how far away the points within the cluster are,a small of inertia is aimed"
      ]
    },
    {
      "cell_type": "code",
      "metadata": {
        "colab": {
          "base_uri": "https://localhost:8080/"
        },
        "id": "HhHi2ZIv08u_",
        "outputId": "77932cd1-368b-4103-cbce-4bd23d979147"
      },
      "source": [
        "kmeans.inertia_"
      ],
      "execution_count": 16,
      "outputs": [
        {
          "output_type": "execute_result",
          "data": {
            "text/plain": [
              "0.5544050220763208"
            ]
          },
          "metadata": {
            "tags": []
          },
          "execution_count": 16
        }
      ]
    },
    {
      "cell_type": "code",
      "metadata": {
        "id": "6-CB1f_WdOVg"
      },
      "source": [
        "from sklearn.cluster import KMeans\r\n",
        "listt=[]\r\n",
        "for i in range(1,15):\r\n",
        "   kmeans=KMeans(n_jobs=-1,n_clusters=i,init='k-means++')\r\n",
        "   kmeans.fit(x)\r\n",
        "   listt.append(kmeans.inertia_)"
      ],
      "execution_count": 17,
      "outputs": []
    },
    {
      "cell_type": "code",
      "metadata": {
        "colab": {
          "base_uri": "https://localhost:8080/"
        },
        "id": "zM_kl29Md8hJ",
        "outputId": "0f6190fd-fe0c-4580-830b-50cf8ba565c7"
      },
      "source": [
        "print(listt)"
      ],
      "execution_count": 18,
      "outputs": [
        {
          "output_type": "stream",
          "text": [
            "[6.675330509968505, 0.5544050220763208, 0.32268174048328563, 0.2693043948533788, 0.23086554636633516, 0.19868437636967956, 0.18145426346025512, 0.1662983671289905, 0.15404760785184943, 0.14026135266583106, 0.1269449012716724, 0.11937726863629913, 0.11127282685242121, 0.10461176056294069]\n"
          ],
          "name": "stdout"
        }
      ]
    },
    {
      "cell_type": "code",
      "metadata": {
        "colab": {
          "base_uri": "https://localhost:8080/"
        },
        "id": "uaSfbTA41p4b",
        "outputId": "3b4928f2-da95-48f4-99c0-5521dd72cdbd"
      },
      "source": [
        "frame=pd.DataFrame({'clusters':range(1,15),'listt':listt})\r\n",
        "print(frame)"
      ],
      "execution_count": 19,
      "outputs": [
        {
          "output_type": "stream",
          "text": [
            "    clusters     listt\n",
            "0          1  6.675331\n",
            "1          2  0.554405\n",
            "2          3  0.322682\n",
            "3          4  0.269304\n",
            "4          5  0.230866\n",
            "5          6  0.198684\n",
            "6          7  0.181454\n",
            "7          8  0.166298\n",
            "8          9  0.154048\n",
            "9         10  0.140261\n",
            "10        11  0.126945\n",
            "11        12  0.119377\n",
            "12        13  0.111273\n",
            "13        14  0.104612\n"
          ],
          "name": "stdout"
        }
      ]
    },
    {
      "cell_type": "markdown",
      "metadata": {
        "id": "2eC7QUmd8GXg"
      },
      "source": [
        "**Elbow Method:**To determine the optimal number of clusters, we have to select the value of k at the elbow i.e the point after which distortion/inertia start decreasing in a linear fashion."
      ]
    },
    {
      "cell_type": "code",
      "metadata": {
        "colab": {
          "base_uri": "https://localhost:8080/",
          "height": 404
        },
        "id": "jos00FGGeB1Z",
        "outputId": "831503b6-d4de-4f23-e808-21b0c3ff407f"
      },
      "source": [
        "plt.figure(figsize=(12,6))\r\n",
        "plt.plot(frame['clusters'],frame['listt'],color='red',marker='o',markersize=8)\r\n",
        "plt.title('THE ELBOW METHOD')\r\n",
        "plt.xlabel(\"NO OF CLUSTERS\")\r\n",
        "plt.ylabel(\"Inertia\")\r\n",
        "plt.grid()\r\n",
        "plt.show()\r\n"
      ],
      "execution_count": 20,
      "outputs": [
        {
          "output_type": "display_data",
          "data": {
            "image/png": "[encoded data removed]",
            "text/plain": [
              "<Figure size 864x432 with 1 Axes>"
            ]
          },
          "metadata": {
            "tags": [],
            "needs_background": "light"
          }
        }
      ]
    },
    {
      "cell_type": "markdown",
      "metadata": {
        "id": "XCmiZoqg9CaS"
      },
      "source": [
        "**K=3**"
      ]
    },
    {
      "cell_type": "code",
      "metadata": {
        "id": "XkXn-Nyh2kuP"
      },
      "source": [
        "kmeans=KMeans(n_clusters=3)\r\n",
        "kmeans.fit(iris_df)\r\n",
        "pred=kmeans.predict(iris_df)"
      ],
      "execution_count": 21,
      "outputs": []
    },
    {
      "cell_type": "code",
      "metadata": {
        "id": "B63f9RT724J-"
      },
      "source": [
        "iris_df['clusters']=pred"
      ],
      "execution_count": 22,
      "outputs": []
    },
    {
      "cell_type": "code",
      "metadata": {
        "colab": {
          "base_uri": "https://localhost:8080/",
          "height": 195
        },
        "id": "7lR4K3sv2_SR",
        "outputId": "d66d0b9f-6f59-4f53-f879-43b7dbf450ac"
      },
      "source": [
        "iris_df.head(5)"
      ],
      "execution_count": 23,
      "outputs": [
        {
          "output_type": "execute_result",
          "data": {
            "text/html": [
              "<div>\n",
              "<style scoped>\n",
              "    .dataframe tbody tr th:only-of-type {\n",
              "        vertical-align: middle;\n",
              "    }\n",
              "\n",
              "    .dataframe tbody tr th {\n",
              "        vertical-align: top;\n",
              "    }\n",
              "\n",
              "    .dataframe thead th {\n",
              "        text-align: right;\n",
              "    }\n",
              "</style>\n",
              "<table border=\"1\" class=\"dataframe\">\n",
              "  <thead>\n",
              "    <tr style=\"text-align: right;\">\n",
              "      <th></th>\n",
              "      <th>sepal length (cm)</th>\n",
              "      <th>sepal width (cm)</th>\n",
              "      <th>petal length (cm)</th>\n",
              "      <th>petal width (cm)</th>\n",
              "      <th>clusters</th>\n",
              "    </tr>\n",
              "  </thead>\n",
              "  <tbody>\n",
              "    <tr>\n",
              "      <th>0</th>\n",
              "      <td>0.803773</td>\n",
              "      <td>0.551609</td>\n",
              "      <td>0.220644</td>\n",
              "      <td>0.031521</td>\n",
              "      <td>1</td>\n",
              "    </tr>\n",
              "    <tr>\n",
              "      <th>1</th>\n",
              "      <td>0.828133</td>\n",
              "      <td>0.507020</td>\n",
              "      <td>0.236609</td>\n",
              "      <td>0.033801</td>\n",
              "      <td>1</td>\n",
              "    </tr>\n",
              "    <tr>\n",
              "      <th>2</th>\n",
              "      <td>0.805333</td>\n",
              "      <td>0.548312</td>\n",
              "      <td>0.222752</td>\n",
              "      <td>0.034269</td>\n",
              "      <td>1</td>\n",
              "    </tr>\n",
              "    <tr>\n",
              "      <th>3</th>\n",
              "      <td>0.800030</td>\n",
              "      <td>0.539151</td>\n",
              "      <td>0.260879</td>\n",
              "      <td>0.034784</td>\n",
              "      <td>1</td>\n",
              "    </tr>\n",
              "    <tr>\n",
              "      <th>4</th>\n",
              "      <td>0.790965</td>\n",
              "      <td>0.569495</td>\n",
              "      <td>0.221470</td>\n",
              "      <td>0.031639</td>\n",
              "      <td>1</td>\n",
              "    </tr>\n",
              "  </tbody>\n",
              "</table>\n",
              "</div>"
            ],
            "text/plain": [
              "   sepal length (cm)  sepal width (cm)  ...  petal width (cm)  clusters\n",
              "0           0.803773          0.551609  ...          0.031521         1\n",
              "1           0.828133          0.507020  ...          0.033801         1\n",
              "2           0.805333          0.548312  ...          0.034269         1\n",
              "3           0.800030          0.539151  ...          0.034784         1\n",
              "4           0.790965          0.569495  ...          0.031639         1\n",
              "\n",
              "[5 rows x 5 columns]"
            ]
          },
          "metadata": {
            "tags": []
          },
          "execution_count": 23
        }
      ]
    },
    {
      "cell_type": "markdown",
      "metadata": {
        "id": "NrQoYOxY9cvt"
      },
      "source": [
        "**Visualizing the data**"
      ]
    },
    {
      "cell_type": "code",
      "metadata": {
        "id": "LNDE7X3C3PKd",
        "colab": {
          "base_uri": "https://localhost:8080/",
          "height": 523
        },
        "outputId": "54e288cd-574f-4acf-d0ca-8c16f6b6d270"
      },
      "source": [
        "plt.figure(figsize=(5,5),dpi=120)\r\n",
        "plt.scatter(x[pred==0,0],x[pred==0,1],s=100,c='red',label='Iris-setosa')\r\n",
        "plt.scatter(x[pred==1,0],x[pred==1,1],s=100,c='blue',label='Iris-Versicolour')\r\n",
        "plt.scatter(x[pred==2,0],x[pred==2,1],s=100,c='green',label='Iris-Virginica')\r\n",
        "plt.scatter(kmeans.cluster_centers_[:,0],kmeans.cluster_centers_[:,1],s=100,c='orange',marker='*',label='Centroid')\r\n",
        "plt.grid()\r\n",
        "plt.legend()\r\n",
        "plt.show()\r\n",
        "\r\n"
      ],
      "execution_count": 24,
      "outputs": [
        {
          "output_type": "display_data",
          "data": {
            "image/png": "[encoded data removed]",
            "text/plain": [
              "<Figure size 600x600 with 1 Axes>"
            ]
          },
          "metadata": {
            "tags": [],
            "needs_background": "light"
          }
        }
      ]
    },
    {
      "cell_type": "markdown",
      "metadata": {
        "id": "ag-R-jVe-Coq"
      },
      "source": [
        "**Optimum number of cluster i.e 3 that we visualize through  elbow method and by the help of scatter plot.**"
      ]
    }
  ]
}